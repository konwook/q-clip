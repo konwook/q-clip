{
 "cells": [
  {
   "cell_type": "code",
   "execution_count": null,
   "metadata": {
    "colab": {
     "base_uri": "https://localhost:8080/"
    },
    "executionInfo": {
     "elapsed": 20525,
     "status": "ok",
     "timestamp": 1612882654203,
     "user": {
      "displayName": "Konwoo Kim",
      "photoUrl": "",
      "userId": "13667346296042403137"
     },
     "user_tz": 300
    },
    "id": "QW0HfL4US1xY",
    "outputId": "aa78287a-df71-4191-c370-b4775116bc58"
   },
   "outputs": [],
   "source": [
    "from google.colab import drive \n",
    "drive.mount('/content/gdrive', force_remount=True)"
   ]
  },
  {
   "cell_type": "code",
   "execution_count": null,
   "metadata": {
    "colab": {
     "base_uri": "https://localhost:8080/"
    },
    "executionInfo": {
     "elapsed": 127303,
     "status": "ok",
     "timestamp": 1612882794465,
     "user": {
      "displayName": "Konwoo Kim",
      "photoUrl": "",
      "userId": "13667346296042403137"
     },
     "user_tz": 300
    },
    "id": "-3hrYzF1FbLW",
    "outputId": "1f099154-4481-47db-d767-e983c4d7326f"
   },
   "outputs": [],
   "source": [
    "!pip install ftfy regex tqdm\n",
    "!pip install git+https://github.com/openai/CLIP.git"
   ]
  },
  {
   "cell_type": "code",
   "execution_count": null,
   "metadata": {
    "colab": {
     "base_uri": "https://localhost:8080/"
    },
    "executionInfo": {
     "elapsed": 325399,
     "status": "ok",
     "timestamp": 1612883158639,
     "user": {
      "displayName": "Konwoo Kim",
      "photoUrl": "",
      "userId": "13667346296042403137"
     },
     "user_tz": 300
    },
    "id": "8dGM45I0Fg67",
    "outputId": "5b3c6e24-e752-42c5-e198-757fc716d499"
   },
   "outputs": [],
   "source": [
    "!wget http://images.cocodataset.org/zips/train2014.zip\n",
    "!wget http://images.cocodataset.org/annotations/annotations_trainval2014.zip"
   ]
  },
  {
   "cell_type": "code",
   "execution_count": null,
   "metadata": {
    "colab": {
     "base_uri": "https://localhost:8080/"
    },
    "executionInfo": {
     "elapsed": 258393,
     "status": "ok",
     "timestamp": 1612883454646,
     "user": {
      "displayName": "Konwoo Kim",
      "photoUrl": "",
      "userId": "13667346296042403137"
     },
     "user_tz": 300
    },
    "id": "KNdiDSFVJO6x",
    "outputId": "83453905-d5df-4ae6-a405-edb6cdcb3806"
   },
   "outputs": [],
   "source": [
    "!unzip train2014.zip\n",
    "!unzip annotations_trainval2014.zip"
   ]
  },
  {
   "cell_type": "code",
   "execution_count": null,
   "metadata": {
    "executionInfo": {
     "elapsed": 2211,
     "status": "ok",
     "timestamp": 1612883808491,
     "user": {
      "displayName": "Konwoo Kim",
      "photoUrl": "",
      "userId": "13667346296042403137"
     },
     "user_tz": 300
    },
    "id": "kLCfaYsdTwiG"
   },
   "outputs": [],
   "source": [
    "import json, collections\n",
    "\n",
    "annotation_file = \"./annotations/captions_train2014.json\"\n",
    "PATH = './train2014/'\n",
    "\n",
    "with open(annotation_file, 'r') as f:\n",
    "    annotations = json.load(f)\n",
    "image_path_to_caption = collections.defaultdict(list)\n",
    "for val in annotations['annotations']:\n",
    "  caption = val['caption']\n",
    "  image_path = PATH + 'COCO_train2014_' + '%012d.jpg' % (val['image_id'])\n",
    "  image_path_to_caption[image_path].append(caption)\n",
    "image_paths = list(image_path_to_caption.keys())"
   ]
  },
  {
   "cell_type": "code",
   "execution_count": null,
   "metadata": {
    "colab": {
     "base_uri": "https://localhost:8080/",
     "height": 35
    },
    "executionInfo": {
     "elapsed": 288,
     "status": "ok",
     "timestamp": 1612883814584,
     "user": {
      "displayName": "Konwoo Kim",
      "photoUrl": "",
      "userId": "13667346296042403137"
     },
     "user_tz": 300
    },
    "id": "E_aCZDNkUfrg",
    "outputId": "8c892865-629e-4948-a9f1-bc8c36628c3d"
   },
   "outputs": [],
   "source": [
    "print(image_paths[0])"
   ]
  },
  {
   "cell_type": "code",
   "execution_count": null,
   "metadata": {
    "id": "0tyHcvzhUpuJ"
   },
   "outputs": [],
   "source": [
    "import pickle\n",
    "with open(\"coco_filenames.txt\", \"wb\") as f:\n",
    "  pickle.dump(image_paths, f)\n",
    "with open('coco_captions.txt', 'wb') as f:\n",
    "  pickle.dump(image_path_to_caption, f)"
   ]
  },
  {
   "cell_type": "code",
   "execution_count": null,
   "metadata": {
    "executionInfo": {
     "elapsed": 2859,
     "status": "ok",
     "timestamp": 1612883851285,
     "user": {
      "displayName": "Konwoo Kim",
      "photoUrl": "",
      "userId": "13667346296042403137"
     },
     "user_tz": 300
    },
    "id": "wpVxXeuDWe_y"
   },
   "outputs": [],
   "source": [
    "from torch.utils.data import Dataset, DataLoader\n",
    "from PIL import Image\n",
    "\n",
    "class Coco2014Dataset(Dataset):\n",
    "  def __init__(self, fnames, captions, transform=None):\n",
    "    self.fnames = fnames\n",
    "    self.captions = captions\n",
    "    self.transform = transform\n",
    "\n",
    "  def __len__(self):\n",
    "    return len(self.fnames)\n",
    "  \n",
    "  def __getitem__(self, i):\n",
    "    img, captions = Image.open(self.fnames[i]), self.captions[self.fnames[i]]\n",
    "    if self.transform is not None:\n",
    "      img = self.transform(img)\n",
    "    return img, captions \n",
    "\n",
    "def collate(batch):\n",
    "  imgs, captions = torch.stack([x[0] for x in batch]), [x[1] for x in batch]\n",
    "  return imgs, captions"
   ]
  },
  {
   "cell_type": "code",
   "execution_count": null,
   "metadata": {
    "colab": {
     "base_uri": "https://localhost:8080/"
    },
    "executionInfo": {
     "elapsed": 5276,
     "status": "ok",
     "timestamp": 1612883857880,
     "user": {
      "displayName": "Konwoo Kim",
      "photoUrl": "",
      "userId": "13667346296042403137"
     },
     "user_tz": 300
    },
    "id": "vqURfpInYRF2",
    "outputId": "f5a9176a-cdbd-4c0d-b8e7-a5a5aac1a393"
   },
   "outputs": [],
   "source": [
    "!pip install ipywidgets"
   ]
  },
  {
   "cell_type": "code",
   "execution_count": null,
   "metadata": {
    "colab": {
     "base_uri": "https://localhost:8080/"
    },
    "executionInfo": {
     "elapsed": 12669,
     "status": "ok",
     "timestamp": 1612883921076,
     "user": {
      "displayName": "Konwoo Kim",
      "photoUrl": "",
      "userId": "13667346296042403137"
     },
     "user_tz": 300
    },
    "id": "V3fUqwdkX7Be",
    "outputId": "896ad3be-be2f-44e1-a5f7-16b24793ea48"
   },
   "outputs": [],
   "source": [
    "import clip\n",
    "import torch\n",
    "from tqdm.notebook import tqdm\n",
    "\n",
    "# Load the model\n",
    "device = \"cuda\" if torch.cuda.is_available() else \"cpu\"\n",
    "model, preprocess = clip.load('ViT-B/32', device)\n",
    "\n",
    "dataset = Coco2014Dataset(image_paths, image_path_to_caption, preprocess)"
   ]
  },
  {
   "cell_type": "code",
   "execution_count": null,
   "metadata": {
    "executionInfo": {
     "elapsed": 301,
     "status": "ok",
     "timestamp": 1612883943760,
     "user": {
      "displayName": "Konwoo Kim",
      "photoUrl": "",
      "userId": "13667346296042403137"
     },
     "user_tz": 300
    },
    "id": "jwsNsvxYcQJG"
   },
   "outputs": [],
   "source": [
    "dataloader = torch.utils.data.DataLoader(dataset, batch_size=128, num_workers=8, collate_fn=collate, shuffle=False)"
   ]
  },
  {
   "cell_type": "code",
   "execution_count": null,
   "metadata": {
    "colab": {
     "base_uri": "https://localhost:8080/",
     "height": 66,
     "referenced_widgets": [
      "ec7c40369acb43089f6aedd3b14a5617",
      "11bf85e2f96d4cfc97cc77c521c47d4c",
      "da2ce7ef51c14c0993933ad2a5799847",
      "614809142d884f82a0d08e6c5f6105ce",
      "c7b2c43e644547eea4f09c5beea8a199",
      "6a8de5eb9f504d4ba58716234eb3f3e2",
      "21a31346b7724e138ff4eae019f7cc93",
      "5e31f52810584f44b9f8585eb5ef5045"
     ]
    },
    "executionInfo": {
     "elapsed": 12318154,
     "status": "ok",
     "timestamp": 1612896265071,
     "user": {
      "displayName": "Konwoo Kim",
      "photoUrl": "",
      "userId": "13667346296042403137"
     },
     "user_tz": 300
    },
    "id": "ja7iM2gkZCYV",
    "outputId": "c82c95af-ff7c-4421-af15-19505be1d96b"
   },
   "outputs": [],
   "source": [
    "# embed images \n",
    "fin_features = []\n",
    "with torch.no_grad():\n",
    "  for idx, (images, captions) in tqdm(enumerate(dataloader)):\n",
    "    images = images.to(device)\n",
    "    image_features = model.encode_image(images)\n",
    "    fin_features.append(image_features)\n",
    "fin_features = torch.cat(fin_features)"
   ]
  },
  {
   "cell_type": "code",
   "execution_count": null,
   "metadata": {
    "executionInfo": {
     "elapsed": 814,
     "status": "ok",
     "timestamp": 1612896292150,
     "user": {
      "displayName": "Konwoo Kim",
      "photoUrl": "",
      "userId": "13667346296042403137"
     },
     "user_tz": 300
    },
    "id": "BWuZC2N4abCb"
   },
   "outputs": [],
   "source": [
    "torch.save(fin_features, 'coco_features.pt')"
   ]
  },
  {
   "cell_type": "code",
   "execution_count": null,
   "metadata": {
    "colab": {
     "base_uri": "https://localhost:8080/"
    },
    "executionInfo": {
     "elapsed": 351,
     "status": "ok",
     "timestamp": 1612897943886,
     "user": {
      "displayName": "Konwoo Kim",
      "photoUrl": "",
      "userId": "13667346296042403137"
     },
     "user_tz": 300
    },
    "id": "RCk-Hs0ZNWn7",
    "outputId": "22163ffa-bdbb-4c0e-aef2-4b39eb111c8c"
   },
   "outputs": [],
   "source": [
    "all_captions = []\n",
    "for idx, (images, captions) in tqdm(enumerate(dataloader)):\n",
    "  all_captions.extend(captions)\n",
    "with open('all_captions.txt', 'wb') as f:\n",
    "  pickle.dump(all_captions, f)"
   ]
  }
 ],
 "metadata": {
  "colab": {
   "authorship_tag": "ABX9TyPPVjRyNBNxlfoDoe2MKdmT",
   "name": "coco_clip.ipynb",
   "provenance": []
  },
  "kernelspec": {
   "display_name": "Python 3",
   "language": "python",
   "name": "python3"
  },
  "language_info": {
   "codemirror_mode": {
    "name": "ipython",
    "version": 3
   },
   "file_extension": ".py",
   "mimetype": "text/x-python",
   "name": "python",
   "nbconvert_exporter": "python",
   "pygments_lexer": "ipython3",
   "version": "3.8.3"
  },
  "widgets": {
   "application/vnd.jupyter.widget-state+json": {
    "11bf85e2f96d4cfc97cc77c521c47d4c": {
     "model_module": "@jupyter-widgets/base",
     "model_name": "LayoutModel",
     "state": {
      "_model_module": "@jupyter-widgets/base",
      "_model_module_version": "1.2.0",
      "_model_name": "LayoutModel",
      "_view_count": null,
      "_view_module": "@jupyter-widgets/base",
      "_view_module_version": "1.2.0",
      "_view_name": "LayoutView",
      "align_content": null,
      "align_items": null,
      "align_self": null,
      "border": null,
      "bottom": null,
      "display": null,
      "flex": null,
      "flex_flow": null,
      "grid_area": null,
      "grid_auto_columns": null,
      "grid_auto_flow": null,
      "grid_auto_rows": null,
      "grid_column": null,
      "grid_gap": null,
      "grid_row": null,
      "grid_template_areas": null,
      "grid_template_columns": null,
      "grid_template_rows": null,
      "height": null,
      "justify_content": null,
      "justify_items": null,
      "left": null,
      "margin": null,
      "max_height": null,
      "max_width": null,
      "min_height": null,
      "min_width": null,
      "object_fit": null,
      "object_position": null,
      "order": null,
      "overflow": null,
      "overflow_x": null,
      "overflow_y": null,
      "padding": null,
      "right": null,
      "top": null,
      "visibility": null,
      "width": null
     }
    },
    "1faf004879e744d7bbf478fc4fc5202c": {
     "model_module": "@jupyter-widgets/controls",
     "model_name": "ProgressStyleModel",
     "state": {
      "_model_module": "@jupyter-widgets/controls",
      "_model_module_version": "1.5.0",
      "_model_name": "ProgressStyleModel",
      "_view_count": null,
      "_view_module": "@jupyter-widgets/base",
      "_view_module_version": "1.2.0",
      "_view_name": "StyleView",
      "bar_color": null,
      "description_width": "initial"
     }
    },
    "21a31346b7724e138ff4eae019f7cc93": {
     "model_module": "@jupyter-widgets/controls",
     "model_name": "DescriptionStyleModel",
     "state": {
      "_model_module": "@jupyter-widgets/controls",
      "_model_module_version": "1.5.0",
      "_model_name": "DescriptionStyleModel",
      "_view_count": null,
      "_view_module": "@jupyter-widgets/base",
      "_view_module_version": "1.2.0",
      "_view_name": "StyleView",
      "description_width": ""
     }
    },
    "2f1c0fbbf0da4b98aa39c0ad169c9f8b": {
     "model_module": "@jupyter-widgets/base",
     "model_name": "LayoutModel",
     "state": {
      "_model_module": "@jupyter-widgets/base",
      "_model_module_version": "1.2.0",
      "_model_name": "LayoutModel",
      "_view_count": null,
      "_view_module": "@jupyter-widgets/base",
      "_view_module_version": "1.2.0",
      "_view_name": "LayoutView",
      "align_content": null,
      "align_items": null,
      "align_self": null,
      "border": null,
      "bottom": null,
      "display": null,
      "flex": null,
      "flex_flow": null,
      "grid_area": null,
      "grid_auto_columns": null,
      "grid_auto_flow": null,
      "grid_auto_rows": null,
      "grid_column": null,
      "grid_gap": null,
      "grid_row": null,
      "grid_template_areas": null,
      "grid_template_columns": null,
      "grid_template_rows": null,
      "height": null,
      "justify_content": null,
      "justify_items": null,
      "left": null,
      "margin": null,
      "max_height": null,
      "max_width": null,
      "min_height": null,
      "min_width": null,
      "object_fit": null,
      "object_position": null,
      "order": null,
      "overflow": null,
      "overflow_x": null,
      "overflow_y": null,
      "padding": null,
      "right": null,
      "top": null,
      "visibility": null,
      "width": null
     }
    },
    "5e31f52810584f44b9f8585eb5ef5045": {
     "model_module": "@jupyter-widgets/base",
     "model_name": "LayoutModel",
     "state": {
      "_model_module": "@jupyter-widgets/base",
      "_model_module_version": "1.2.0",
      "_model_name": "LayoutModel",
      "_view_count": null,
      "_view_module": "@jupyter-widgets/base",
      "_view_module_version": "1.2.0",
      "_view_name": "LayoutView",
      "align_content": null,
      "align_items": null,
      "align_self": null,
      "border": null,
      "bottom": null,
      "display": null,
      "flex": null,
      "flex_flow": null,
      "grid_area": null,
      "grid_auto_columns": null,
      "grid_auto_flow": null,
      "grid_auto_rows": null,
      "grid_column": null,
      "grid_gap": null,
      "grid_row": null,
      "grid_template_areas": null,
      "grid_template_columns": null,
      "grid_template_rows": null,
      "height": null,
      "justify_content": null,
      "justify_items": null,
      "left": null,
      "margin": null,
      "max_height": null,
      "max_width": null,
      "min_height": null,
      "min_width": null,
      "object_fit": null,
      "object_position": null,
      "order": null,
      "overflow": null,
      "overflow_x": null,
      "overflow_y": null,
      "padding": null,
      "right": null,
      "top": null,
      "visibility": null,
      "width": null
     }
    },
    "614809142d884f82a0d08e6c5f6105ce": {
     "model_module": "@jupyter-widgets/controls",
     "model_name": "HTMLModel",
     "state": {
      "_dom_classes": [],
      "_model_module": "@jupyter-widgets/controls",
      "_model_module_version": "1.5.0",
      "_model_name": "HTMLModel",
      "_view_count": null,
      "_view_module": "@jupyter-widgets/controls",
      "_view_module_version": "1.5.0",
      "_view_name": "HTMLView",
      "description": "",
      "description_tooltip": null,
      "layout": "IPY_MODEL_5e31f52810584f44b9f8585eb5ef5045",
      "placeholder": "​",
      "style": "IPY_MODEL_21a31346b7724e138ff4eae019f7cc93",
      "value": " 647/? [3:28:00&lt;00:00, 19.29s/it]"
     }
    },
    "6a8de5eb9f504d4ba58716234eb3f3e2": {
     "model_module": "@jupyter-widgets/base",
     "model_name": "LayoutModel",
     "state": {
      "_model_module": "@jupyter-widgets/base",
      "_model_module_version": "1.2.0",
      "_model_name": "LayoutModel",
      "_view_count": null,
      "_view_module": "@jupyter-widgets/base",
      "_view_module_version": "1.2.0",
      "_view_name": "LayoutView",
      "align_content": null,
      "align_items": null,
      "align_self": null,
      "border": null,
      "bottom": null,
      "display": null,
      "flex": null,
      "flex_flow": null,
      "grid_area": null,
      "grid_auto_columns": null,
      "grid_auto_flow": null,
      "grid_auto_rows": null,
      "grid_column": null,
      "grid_gap": null,
      "grid_row": null,
      "grid_template_areas": null,
      "grid_template_columns": null,
      "grid_template_rows": null,
      "height": null,
      "justify_content": null,
      "justify_items": null,
      "left": null,
      "margin": null,
      "max_height": null,
      "max_width": null,
      "min_height": null,
      "min_width": null,
      "object_fit": null,
      "object_position": null,
      "order": null,
      "overflow": null,
      "overflow_x": null,
      "overflow_y": null,
      "padding": null,
      "right": null,
      "top": null,
      "visibility": null,
      "width": null
     }
    },
    "ad62570b12d942e9985486dd30c9affc": {
     "model_module": "@jupyter-widgets/base",
     "model_name": "LayoutModel",
     "state": {
      "_model_module": "@jupyter-widgets/base",
      "_model_module_version": "1.2.0",
      "_model_name": "LayoutModel",
      "_view_count": null,
      "_view_module": "@jupyter-widgets/base",
      "_view_module_version": "1.2.0",
      "_view_name": "LayoutView",
      "align_content": null,
      "align_items": null,
      "align_self": null,
      "border": null,
      "bottom": null,
      "display": null,
      "flex": null,
      "flex_flow": null,
      "grid_area": null,
      "grid_auto_columns": null,
      "grid_auto_flow": null,
      "grid_auto_rows": null,
      "grid_column": null,
      "grid_gap": null,
      "grid_row": null,
      "grid_template_areas": null,
      "grid_template_columns": null,
      "grid_template_rows": null,
      "height": null,
      "justify_content": null,
      "justify_items": null,
      "left": null,
      "margin": null,
      "max_height": null,
      "max_width": null,
      "min_height": null,
      "min_width": null,
      "object_fit": null,
      "object_position": null,
      "order": null,
      "overflow": null,
      "overflow_x": null,
      "overflow_y": null,
      "padding": null,
      "right": null,
      "top": null,
      "visibility": null,
      "width": null
     }
    },
    "b6b46fe521694c609a3b8e4ce1e6bd77": {
     "model_module": "@jupyter-widgets/base",
     "model_name": "LayoutModel",
     "state": {
      "_model_module": "@jupyter-widgets/base",
      "_model_module_version": "1.2.0",
      "_model_name": "LayoutModel",
      "_view_count": null,
      "_view_module": "@jupyter-widgets/base",
      "_view_module_version": "1.2.0",
      "_view_name": "LayoutView",
      "align_content": null,
      "align_items": null,
      "align_self": null,
      "border": null,
      "bottom": null,
      "display": null,
      "flex": null,
      "flex_flow": null,
      "grid_area": null,
      "grid_auto_columns": null,
      "grid_auto_flow": null,
      "grid_auto_rows": null,
      "grid_column": null,
      "grid_gap": null,
      "grid_row": null,
      "grid_template_areas": null,
      "grid_template_columns": null,
      "grid_template_rows": null,
      "height": null,
      "justify_content": null,
      "justify_items": null,
      "left": null,
      "margin": null,
      "max_height": null,
      "max_width": null,
      "min_height": null,
      "min_width": null,
      "object_fit": null,
      "object_position": null,
      "order": null,
      "overflow": null,
      "overflow_x": null,
      "overflow_y": null,
      "padding": null,
      "right": null,
      "top": null,
      "visibility": null,
      "width": null
     }
    },
    "bab0b01ded8f407395ecedb5a2a5e04c": {
     "model_module": "@jupyter-widgets/controls",
     "model_name": "FloatProgressModel",
     "state": {
      "_dom_classes": [],
      "_model_module": "@jupyter-widgets/controls",
      "_model_module_version": "1.5.0",
      "_model_name": "FloatProgressModel",
      "_view_count": null,
      "_view_module": "@jupyter-widgets/controls",
      "_view_module_version": "1.5.0",
      "_view_name": "ProgressView",
      "bar_style": "success",
      "description": "",
      "description_tooltip": null,
      "layout": "IPY_MODEL_ad62570b12d942e9985486dd30c9affc",
      "max": 1,
      "min": 0,
      "orientation": "horizontal",
      "style": "IPY_MODEL_1faf004879e744d7bbf478fc4fc5202c",
      "value": 1
     }
    },
    "c7b2c43e644547eea4f09c5beea8a199": {
     "model_module": "@jupyter-widgets/controls",
     "model_name": "ProgressStyleModel",
     "state": {
      "_model_module": "@jupyter-widgets/controls",
      "_model_module_version": "1.5.0",
      "_model_name": "ProgressStyleModel",
      "_view_count": null,
      "_view_module": "@jupyter-widgets/base",
      "_view_module_version": "1.2.0",
      "_view_name": "StyleView",
      "bar_color": null,
      "description_width": "initial"
     }
    },
    "d2df1f49161b4632a0d6842656096c91": {
     "model_module": "@jupyter-widgets/controls",
     "model_name": "HTMLModel",
     "state": {
      "_dom_classes": [],
      "_model_module": "@jupyter-widgets/controls",
      "_model_module_version": "1.5.0",
      "_model_name": "HTMLModel",
      "_view_count": null,
      "_view_module": "@jupyter-widgets/controls",
      "_view_module_version": "1.5.0",
      "_view_name": "HTMLView",
      "description": "",
      "description_tooltip": null,
      "layout": "IPY_MODEL_b6b46fe521694c609a3b8e4ce1e6bd77",
      "placeholder": "​",
      "style": "IPY_MODEL_efadeb13fd6640b9b8c3dd93db68eab4",
      "value": " 647/? [20:49&lt;00:00,  1.93s/it]"
     }
    },
    "da2ce7ef51c14c0993933ad2a5799847": {
     "model_module": "@jupyter-widgets/controls",
     "model_name": "FloatProgressModel",
     "state": {
      "_dom_classes": [],
      "_model_module": "@jupyter-widgets/controls",
      "_model_module_version": "1.5.0",
      "_model_name": "FloatProgressModel",
      "_view_count": null,
      "_view_module": "@jupyter-widgets/controls",
      "_view_module_version": "1.5.0",
      "_view_name": "ProgressView",
      "bar_style": "success",
      "description": "",
      "description_tooltip": null,
      "layout": "IPY_MODEL_6a8de5eb9f504d4ba58716234eb3f3e2",
      "max": 1,
      "min": 0,
      "orientation": "horizontal",
      "style": "IPY_MODEL_c7b2c43e644547eea4f09c5beea8a199",
      "value": 1
     }
    },
    "dfe113723ea24b6abceedb7299077b41": {
     "model_module": "@jupyter-widgets/controls",
     "model_name": "HBoxModel",
     "state": {
      "_dom_classes": [],
      "_model_module": "@jupyter-widgets/controls",
      "_model_module_version": "1.5.0",
      "_model_name": "HBoxModel",
      "_view_count": null,
      "_view_module": "@jupyter-widgets/controls",
      "_view_module_version": "1.5.0",
      "_view_name": "HBoxView",
      "box_style": "",
      "children": [
       "IPY_MODEL_bab0b01ded8f407395ecedb5a2a5e04c",
       "IPY_MODEL_d2df1f49161b4632a0d6842656096c91"
      ],
      "layout": "IPY_MODEL_2f1c0fbbf0da4b98aa39c0ad169c9f8b"
     }
    },
    "ec7c40369acb43089f6aedd3b14a5617": {
     "model_module": "@jupyter-widgets/controls",
     "model_name": "HBoxModel",
     "state": {
      "_dom_classes": [],
      "_model_module": "@jupyter-widgets/controls",
      "_model_module_version": "1.5.0",
      "_model_name": "HBoxModel",
      "_view_count": null,
      "_view_module": "@jupyter-widgets/controls",
      "_view_module_version": "1.5.0",
      "_view_name": "HBoxView",
      "box_style": "",
      "children": [
       "IPY_MODEL_da2ce7ef51c14c0993933ad2a5799847",
       "IPY_MODEL_614809142d884f82a0d08e6c5f6105ce"
      ],
      "layout": "IPY_MODEL_11bf85e2f96d4cfc97cc77c521c47d4c"
     }
    },
    "efadeb13fd6640b9b8c3dd93db68eab4": {
     "model_module": "@jupyter-widgets/controls",
     "model_name": "DescriptionStyleModel",
     "state": {
      "_model_module": "@jupyter-widgets/controls",
      "_model_module_version": "1.5.0",
      "_model_name": "DescriptionStyleModel",
      "_view_count": null,
      "_view_module": "@jupyter-widgets/base",
      "_view_module_version": "1.2.0",
      "_view_name": "StyleView",
      "description_width": ""
     }
    }
   }
  }
 },
 "nbformat": 4,
 "nbformat_minor": 4
}
