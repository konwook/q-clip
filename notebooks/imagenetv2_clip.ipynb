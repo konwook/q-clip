{
 "cells": [
  {
   "cell_type": "code",
   "execution_count": null,
   "metadata": {
    "colab": {
     "base_uri": "https://localhost:8080/"
    },
    "executionInfo": {
     "elapsed": 133325,
     "status": "ok",
     "timestamp": 1612835516859,
     "user": {
      "displayName": "Konwoo Kim",
      "photoUrl": "",
      "userId": "13667346296042403137"
     },
     "user_tz": 300
    },
    "id": "q2gpcfOcGVtk",
    "outputId": "f56cc8ef-26b0-46c6-a30b-11c1439e50b3"
   },
   "outputs": [],
   "source": [
    "!pip install ftfy regex tqdm\n",
    "!pip install git+https://github.com/openai/CLIP.git\n",
    "!pip install git+https://github.com/modestyachts/ImageNetV2_pytorch"
   ]
  },
  {
   "cell_type": "code",
   "execution_count": null,
   "metadata": {
    "colab": {
     "base_uri": "https://localhost:8080/"
    },
    "executionInfo": {
     "elapsed": 14698,
     "status": "ok",
     "timestamp": 1612682395006,
     "user": {
      "displayName": "Konwoo Kim",
      "photoUrl": "",
      "userId": "13667346296042403137"
     },
     "user_tz": 300
    },
    "id": "SCDC9aYxGdi_",
    "outputId": "b288dcb5-1c8c-4410-928d-30318abe724e"
   },
   "outputs": [],
   "source": [
    "import os\n",
    "import clip\n",
    "import torch\n",
    "from tqdm import tqdm\n",
    "from imagenetv2_pytorch import ImageNetV2Dataset\n",
    "\n",
    "# Load the model\n",
    "device = \"cuda\" if torch.cuda.is_available() else \"cpu\"\n",
    "model, preprocess = clip.load('ViT-B/32', device)\n",
    "dataset = ImageNetV2Dataset(\"matched-frequency\")"
   ]
  },
  {
   "cell_type": "code",
   "execution_count": null,
   "metadata": {
    "colab": {
     "base_uri": "https://localhost:8080/"
    },
    "executionInfo": {
     "elapsed": 1615993,
     "status": "ok",
     "timestamp": 1612752125932,
     "user": {
      "displayName": "Konwoo Kim",
      "photoUrl": "",
      "userId": "13667346296042403137"
     },
     "user_tz": 300
    },
    "id": "FNGqh9ZrT4AB",
    "outputId": "b0e7ea41-668c-4cff-9054-24b1974ea4b0"
   },
   "outputs": [],
   "source": [
    "BATCH_SIZE = 50\n",
    "dataloader = torch.utils.data.DataLoader(dataset, batch_size=BATCH_SIZE, num_workers=16, shuffle=False)\n",
    "ind, fin_features, fin_fnames = 0, [], []\n",
    "with torch.no_grad():\n",
    "  for idx, (images, target) in tqdm(enumerate(dataloader)):\n",
    "    fnames = [dataset.fnames[i].as_posix() for i in range(ind, ind + BATCH_SIZE)] # batch_size of 50\n",
    "    fin_fnames.append(fnames)\n",
    "    images = images.to(device)\n",
    "    image_features = model.encode_image(images)\n",
    "    fin_features.append(image_features)\n",
    "    ind += BATCH_SIZE\n",
    "fin_features = torch.cat(fin_features)\n",
    "print(fin_features.shape, len(fin_fnames))"
   ]
  },
  {
   "cell_type": "code",
   "execution_count": null,
   "metadata": {
    "colab": {
     "base_uri": "https://localhost:8080/"
    },
    "executionInfo": {
     "elapsed": 303,
     "status": "ok",
     "timestamp": 1612752457254,
     "user": {
      "displayName": "Konwoo Kim",
      "photoUrl": "",
      "userId": "13667346296042403137"
     },
     "user_tz": 300
    },
    "id": "gqpBQVnChWJ0",
    "outputId": "6b20515c-62d2-442f-c588-1b6c15db2aac"
   },
   "outputs": [],
   "source": [
    "import pickle\n",
    "\n",
    "torch.save(fin_features, 'imagenetv2_matched_freq_features.pt')\n",
    "fnames = [f for flist in fin_fnames for f in flist]\n",
    "with open(\"filenames.txt\", \"wb\") as f:\n",
    "  pickle.dump(fnames, f)"
   ]
  }
 ],
 "metadata": {
  "colab": {
   "authorship_tag": "ABX9TyMT6ZgCQARsUZit4W1dyAAt",
   "collapsed_sections": [],
   "name": "benchmark_clip.ipynb",
   "provenance": []
  },
  "kernelspec": {
   "display_name": "Python 3",
   "language": "python",
   "name": "python3"
  },
  "language_info": {
   "codemirror_mode": {
    "name": "ipython",
    "version": 3
   },
   "file_extension": ".py",
   "mimetype": "text/x-python",
   "name": "python",
   "nbconvert_exporter": "python",
   "pygments_lexer": "ipython3",
   "version": "3.8.3"
  }
 },
 "nbformat": 4,
 "nbformat_minor": 4
}
