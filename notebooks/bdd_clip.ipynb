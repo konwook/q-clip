{
 "cells": [
  {
   "cell_type": "code",
   "execution_count": null,
   "metadata": {
    "colab": {
     "base_uri": "https://localhost:8080/"
    },
    "executionInfo": {
     "elapsed": 1523,
     "status": "ok",
     "timestamp": 1612991135720,
     "user": {
      "displayName": "Konwoo Kim",
      "photoUrl": "",
      "userId": "13667346296042403137"
     },
     "user_tz": 300
    },
    "id": "0s8pcPaWeCMq",
    "outputId": "953b9116-4ca1-4f11-c190-c0a66bb109ad"
   },
   "outputs": [],
   "source": [
    "from google.colab import drive \n",
    "drive.mount('/content/gdrive', force_remount=True)"
   ]
  },
  {
   "cell_type": "code",
   "execution_count": null,
   "metadata": {
    "colab": {
     "base_uri": "https://localhost:8080/"
    },
    "executionInfo": {
     "elapsed": 9148,
     "status": "ok",
     "timestamp": 1612991155844,
     "user": {
      "displayName": "Konwoo Kim",
      "photoUrl": "",
      "userId": "13667346296042403137"
     },
     "user_tz": 300
    },
    "id": "c8lqyL-qhiff",
    "outputId": "ff29df6c-ff62-46d9-e442-4bf76fd4fabf"
   },
   "outputs": [],
   "source": [
    "!pip install ftfy regex tqdm\n",
    "!pip install git+https://github.com/openai/CLIP.git"
   ]
  },
  {
   "cell_type": "code",
   "execution_count": null,
   "metadata": {
    "id": "qGUsx4Ofy1Qd"
   },
   "outputs": [],
   "source": [
    "# download bdd100k to drive first\n",
    "!unzip bdd100k_images.zip"
   ]
  },
  {
   "cell_type": "code",
   "execution_count": null,
   "metadata": {
    "id": "YkrpPJ8t-wkW"
   },
   "outputs": [],
   "source": [
    "from torch.utils.data import Dataset, DataLoader\n",
    "from PIL import Image\n",
    "\n",
    "class BDDDataset(Dataset):\n",
    "  def __init__(self, fnames, captions, transform=None):\n",
    "    self.fnames = fnames\n",
    "    self.captions = captions\n",
    "    self.transform = transform\n",
    "\n",
    "  def __len__(self):\n",
    "    return len(self.fnames)\n",
    "  \n",
    "  def __getitem__(self, i):\n",
    "    img, captions = Image.open(self.fnames[i]), self.captions[self.fnames[i]]\n",
    "    if self.transform is not None:\n",
    "      img = self.transform(img)\n",
    "    return img, captions \n",
    "\n",
    "def collate(batch):\n",
    "  imgs, captions = torch.stack([x[0] for x in batch]), [x[1] for x in batch]\n",
    "  return imgs, captions"
   ]
  },
  {
   "cell_type": "code",
   "execution_count": null,
   "metadata": {
    "id": "NzK1ZvqJ_BFs"
   },
   "outputs": [],
   "source": [
    "import clip\n",
    "import torch\n",
    "from tqdm.notebook import tqdm\n",
    "\n",
    "# Load the model\n",
    "device = \"cuda\" if torch.cuda.is_available() else \"cpu\"\n",
    "model, preprocess = clip.load('ViT-B/32', device)"
   ]
  },
  {
   "cell_type": "code",
   "execution_count": null,
   "metadata": {
    "executionInfo": {
     "elapsed": 2759,
     "status": "ok",
     "timestamp": 1612996268849,
     "user": {
      "displayName": "Konwoo Kim",
      "photoUrl": "",
      "userId": "13667346296042403137"
     },
     "user_tz": 300
    },
    "id": "IcVpVpcpDFYq"
   },
   "outputs": [],
   "source": [
    "import glob \n",
    "train_10k = [f for f in glob.glob(\"./bdd100k/images/10k/train/*.jpg\")]\n",
    "test_10k = [f for f in glob.glob(\"./bdd100k/images/10k/test/*.jpg\")]\n",
    "val_10k = [f for f in glob.glob(\"./bdd100k/images/10k/val/*.jpg\")]\n",
    "train_100k = [f for f in glob.glob(\"./bdd100k/images/100k/train/*.jpg\")]\n",
    "test_100k = [f for f in glob.glob(\"./bdd100k/images/100k/test/*.jpg\")]\n",
    "val_100k = [f for f in glob.glob(\"./bdd100k/images/100k/val/*.jpg\")]\n",
    "all_filenames = train_10k + test_10k + val_10k + train_100k + test_100k + val_100k"
   ]
  },
  {
   "cell_type": "code",
   "execution_count": null,
   "metadata": {
    "executionInfo": {
     "elapsed": 253,
     "status": "ok",
     "timestamp": 1612997152197,
     "user": {
      "displayName": "Konwoo Kim",
      "photoUrl": "",
      "userId": "13667346296042403137"
     },
     "user_tz": 300
    },
    "id": "6lO89JAEEqPV"
   },
   "outputs": [],
   "source": [
    "from torch.utils.data import Dataset, DataLoader\n",
    "from PIL import Image\n",
    "\n",
    "class BDDDataset(Dataset):\n",
    "  def __init__(self, fnames, transform=None):\n",
    "    self.fnames = fnames\n",
    "    self.transform = transform\n",
    "\n",
    "  def __len__(self):\n",
    "    return len(self.fnames)\n",
    "  \n",
    "  def __getitem__(self, i):\n",
    "    img = Image.open(self.fnames[i])\n",
    "    if self.transform is not None:\n",
    "      img = self.transform(img)\n",
    "    return img"
   ]
  },
  {
   "cell_type": "code",
   "execution_count": null,
   "metadata": {
    "executionInfo": {
     "elapsed": 231,
     "status": "ok",
     "timestamp": 1612997153049,
     "user": {
      "displayName": "Konwoo Kim",
      "photoUrl": "",
      "userId": "13667346296042403137"
     },
     "user_tz": 300
    },
    "id": "J84do0ItFKuI"
   },
   "outputs": [],
   "source": [
    "dataset = BDDDataset(all_filenames, preprocess)\n",
    "dataloader = torch.utils.data.DataLoader(dataset, batch_size=128, num_workers=8, shuffle=False)"
   ]
  },
  {
   "cell_type": "code",
   "execution_count": null,
   "metadata": {
    "colab": {
     "base_uri": "https://localhost:8080/",
     "height": 66,
     "referenced_widgets": [
      "e700c0a5e7e2445a903c53666602cb0f",
      "4dadec5664d24f8a97a7b61c94f27e9d",
      "1e690aff41fe49039f609d6ccb9c955e",
      "3408b22852e4411ba73ab0b45662cb60",
      "63a13923284345a693a050197290dc5a",
      "c5fa78a751364b12b422d51af6ab4b01",
      "dda27fef31824e57b2f56fa77832040c",
      "fd5f23461da9475f96f3350e6722627b"
     ]
    },
    "executionInfo": {
     "elapsed": 20040993,
     "status": "ok",
     "timestamp": 1613018770695,
     "user": {
      "displayName": "Konwoo Kim",
      "photoUrl": "",
      "userId": "13667346296042403137"
     },
     "user_tz": 300
    },
    "id": "gEeWaQ5uFTbc",
    "outputId": "9e0f1efc-2a3a-43ea-c831-f3ca1c7dcf5d"
   },
   "outputs": [],
   "source": [
    "fin_features = []\n",
    "with torch.no_grad():\n",
    "  for idx, images in tqdm(enumerate(dataloader)):\n",
    "    images = images.to(device)\n",
    "    image_features = model.encode_image(images)\n",
    "    fin_features.append(image_features)\n",
    "fin_features = torch.cat(fin_features)\n",
    "torch.save(fin_features, './bdd_fin_features.pt')"
   ]
  }
 ],
 "metadata": {
  "colab": {
   "authorship_tag": "ABX9TyNeOT6geES1W6w1HpJ/zZ9P",
   "name": "bdd_clip.ipynb",
   "provenance": []
  },
  "kernelspec": {
   "display_name": "Python 3",
   "language": "python",
   "name": "python3"
  },
  "language_info": {
   "codemirror_mode": {
    "name": "ipython",
    "version": 3
   },
   "file_extension": ".py",
   "mimetype": "text/x-python",
   "name": "python",
   "nbconvert_exporter": "python",
   "pygments_lexer": "ipython3",
   "version": "3.8.3"
  },
  "widgets": {
   "application/vnd.jupyter.widget-state+json": {
    "1e690aff41fe49039f609d6ccb9c955e": {
     "model_module": "@jupyter-widgets/controls",
     "model_name": "FloatProgressModel",
     "state": {
      "_dom_classes": [],
      "_model_module": "@jupyter-widgets/controls",
      "_model_module_version": "1.5.0",
      "_model_name": "FloatProgressModel",
      "_view_count": null,
      "_view_module": "@jupyter-widgets/controls",
      "_view_module_version": "1.5.0",
      "_view_name": "ProgressView",
      "bar_style": "success",
      "description": "",
      "description_tooltip": null,
      "layout": "IPY_MODEL_c5fa78a751364b12b422d51af6ab4b01",
      "max": 1,
      "min": 0,
      "orientation": "horizontal",
      "style": "IPY_MODEL_63a13923284345a693a050197290dc5a",
      "value": 1
     }
    },
    "3408b22852e4411ba73ab0b45662cb60": {
     "model_module": "@jupyter-widgets/controls",
     "model_name": "HTMLModel",
     "state": {
      "_dom_classes": [],
      "_model_module": "@jupyter-widgets/controls",
      "_model_module_version": "1.5.0",
      "_model_name": "HTMLModel",
      "_view_count": null,
      "_view_module": "@jupyter-widgets/controls",
      "_view_module_version": "1.5.0",
      "_view_name": "HTMLView",
      "description": "",
      "description_tooltip": null,
      "layout": "IPY_MODEL_fd5f23461da9475f96f3350e6722627b",
      "placeholder": "​",
      "style": "IPY_MODEL_dda27fef31824e57b2f56fa77832040c",
      "value": " 860/? [5:34:34&lt;00:00, 23.34s/it]"
     }
    },
    "4dadec5664d24f8a97a7b61c94f27e9d": {
     "model_module": "@jupyter-widgets/base",
     "model_name": "LayoutModel",
     "state": {
      "_model_module": "@jupyter-widgets/base",
      "_model_module_version": "1.2.0",
      "_model_name": "LayoutModel",
      "_view_count": null,
      "_view_module": "@jupyter-widgets/base",
      "_view_module_version": "1.2.0",
      "_view_name": "LayoutView",
      "align_content": null,
      "align_items": null,
      "align_self": null,
      "border": null,
      "bottom": null,
      "display": null,
      "flex": null,
      "flex_flow": null,
      "grid_area": null,
      "grid_auto_columns": null,
      "grid_auto_flow": null,
      "grid_auto_rows": null,
      "grid_column": null,
      "grid_gap": null,
      "grid_row": null,
      "grid_template_areas": null,
      "grid_template_columns": null,
      "grid_template_rows": null,
      "height": null,
      "justify_content": null,
      "justify_items": null,
      "left": null,
      "margin": null,
      "max_height": null,
      "max_width": null,
      "min_height": null,
      "min_width": null,
      "object_fit": null,
      "object_position": null,
      "order": null,
      "overflow": null,
      "overflow_x": null,
      "overflow_y": null,
      "padding": null,
      "right": null,
      "top": null,
      "visibility": null,
      "width": null
     }
    },
    "63a13923284345a693a050197290dc5a": {
     "model_module": "@jupyter-widgets/controls",
     "model_name": "ProgressStyleModel",
     "state": {
      "_model_module": "@jupyter-widgets/controls",
      "_model_module_version": "1.5.0",
      "_model_name": "ProgressStyleModel",
      "_view_count": null,
      "_view_module": "@jupyter-widgets/base",
      "_view_module_version": "1.2.0",
      "_view_name": "StyleView",
      "bar_color": null,
      "description_width": "initial"
     }
    },
    "c5fa78a751364b12b422d51af6ab4b01": {
     "model_module": "@jupyter-widgets/base",
     "model_name": "LayoutModel",
     "state": {
      "_model_module": "@jupyter-widgets/base",
      "_model_module_version": "1.2.0",
      "_model_name": "LayoutModel",
      "_view_count": null,
      "_view_module": "@jupyter-widgets/base",
      "_view_module_version": "1.2.0",
      "_view_name": "LayoutView",
      "align_content": null,
      "align_items": null,
      "align_self": null,
      "border": null,
      "bottom": null,
      "display": null,
      "flex": null,
      "flex_flow": null,
      "grid_area": null,
      "grid_auto_columns": null,
      "grid_auto_flow": null,
      "grid_auto_rows": null,
      "grid_column": null,
      "grid_gap": null,
      "grid_row": null,
      "grid_template_areas": null,
      "grid_template_columns": null,
      "grid_template_rows": null,
      "height": null,
      "justify_content": null,
      "justify_items": null,
      "left": null,
      "margin": null,
      "max_height": null,
      "max_width": null,
      "min_height": null,
      "min_width": null,
      "object_fit": null,
      "object_position": null,
      "order": null,
      "overflow": null,
      "overflow_x": null,
      "overflow_y": null,
      "padding": null,
      "right": null,
      "top": null,
      "visibility": null,
      "width": null
     }
    },
    "dda27fef31824e57b2f56fa77832040c": {
     "model_module": "@jupyter-widgets/controls",
     "model_name": "DescriptionStyleModel",
     "state": {
      "_model_module": "@jupyter-widgets/controls",
      "_model_module_version": "1.5.0",
      "_model_name": "DescriptionStyleModel",
      "_view_count": null,
      "_view_module": "@jupyter-widgets/base",
      "_view_module_version": "1.2.0",
      "_view_name": "StyleView",
      "description_width": ""
     }
    },
    "e700c0a5e7e2445a903c53666602cb0f": {
     "model_module": "@jupyter-widgets/controls",
     "model_name": "HBoxModel",
     "state": {
      "_dom_classes": [],
      "_model_module": "@jupyter-widgets/controls",
      "_model_module_version": "1.5.0",
      "_model_name": "HBoxModel",
      "_view_count": null,
      "_view_module": "@jupyter-widgets/controls",
      "_view_module_version": "1.5.0",
      "_view_name": "HBoxView",
      "box_style": "",
      "children": [
       "IPY_MODEL_1e690aff41fe49039f609d6ccb9c955e",
       "IPY_MODEL_3408b22852e4411ba73ab0b45662cb60"
      ],
      "layout": "IPY_MODEL_4dadec5664d24f8a97a7b61c94f27e9d"
     }
    },
    "fd5f23461da9475f96f3350e6722627b": {
     "model_module": "@jupyter-widgets/base",
     "model_name": "LayoutModel",
     "state": {
      "_model_module": "@jupyter-widgets/base",
      "_model_module_version": "1.2.0",
      "_model_name": "LayoutModel",
      "_view_count": null,
      "_view_module": "@jupyter-widgets/base",
      "_view_module_version": "1.2.0",
      "_view_name": "LayoutView",
      "align_content": null,
      "align_items": null,
      "align_self": null,
      "border": null,
      "bottom": null,
      "display": null,
      "flex": null,
      "flex_flow": null,
      "grid_area": null,
      "grid_auto_columns": null,
      "grid_auto_flow": null,
      "grid_auto_rows": null,
      "grid_column": null,
      "grid_gap": null,
      "grid_row": null,
      "grid_template_areas": null,
      "grid_template_columns": null,
      "grid_template_rows": null,
      "height": null,
      "justify_content": null,
      "justify_items": null,
      "left": null,
      "margin": null,
      "max_height": null,
      "max_width": null,
      "min_height": null,
      "min_width": null,
      "object_fit": null,
      "object_position": null,
      "order": null,
      "overflow": null,
      "overflow_x": null,
      "overflow_y": null,
      "padding": null,
      "right": null,
      "top": null,
      "visibility": null,
      "width": null
     }
    }
   }
  }
 },
 "nbformat": 4,
 "nbformat_minor": 4
}
